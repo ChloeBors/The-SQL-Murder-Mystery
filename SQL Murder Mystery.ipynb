{
 "cells": [
  {
   "cell_type": "markdown",
   "id": "a2ec153f",
   "metadata": {},
   "source": [
    "# How I solved the SQL Murder Mystery"
   ]
  },
  {
   "cell_type": "markdown",
   "id": "ac856cc0",
   "metadata": {},
   "source": [
    "## Context\n",
    "There's been a Murder in SQL City! The SQL Murder Mystery is designed to be both a self-directed lesson to learn SQL concepts and commands and a fun game for experienced SQL users to solve an intriguing crime.\n",
    "https://mystery.knightlab.com/\n",
    "\n",
    "A crime has taken place and the detective needs your help. The detective gave you the crime scene report, but you somehow lost it. You vaguely remember that the crime was a ​murder​ that occurred sometime on ​Jan.15, 2018​ and that it took place in ​SQL City​. Start by retrieving the corresponding crime scene report from the police department’s database.\n",
    "(Code written on 21 October 2021)"
   ]
  },
  {
   "cell_type": "markdown",
   "id": "ad6b4dba",
   "metadata": {},
   "source": [
    "### 1. Looking at the murder Information"
   ]
  },
  {
   "cell_type": "code",
   "execution_count": null,
   "id": "7fde0e16",
   "metadata": {},
   "outputs": [],
   "source": [
    "SELECT *\n",
    "FROM crime_scene_report\n",
    "WHERE date = 20180115\n",
    "  AND city = 'SQL City'\n",
    "  AND TYPE = 'murder'"
   ]
  },
  {
   "cell_type": "markdown",
   "id": "fa127dfa",
   "metadata": {},
   "source": [
    "### 2. Looking at the information of the first witness"
   ]
  },
  {
   "cell_type": "code",
   "execution_count": null,
   "id": "424fb238",
   "metadata": {},
   "outputs": [],
   "source": [
    "SELECT *\n",
    "FROM person\n",
    "WHERE address_street_name = 'Northwestern Dr'\n",
    "GROUP BY id,\n",
    "         name,\n",
    "         license_id,\n",
    "         address_number,\n",
    "         address_street_name,\n",
    "         ssn\n",
    "HAVING address_number =\n",
    "  (SELECT max(address_number)\n",
    "   FROM person\n",
    "   WHERE address_street_name = 'Northwestern Dr')"
   ]
  },
  {
   "cell_type": "markdown",
   "id": "e5ae7834",
   "metadata": {},
   "source": [
    "### 3. Looking at the information of the second witness"
   ]
  },
  {
   "cell_type": "code",
   "execution_count": null,
   "id": "6cdde33e",
   "metadata": {},
   "outputs": [],
   "source": [
    "SELECT *\n",
    "FROM person\n",
    "WHERE address_street_name = 'Franklin Ave'\n",
    "  AND name LIKE 'Annabel%'"
   ]
  },
  {
   "cell_type": "markdown",
   "id": "2c79e6af",
   "metadata": {},
   "source": [
    "### 4. Looking at the interview statements of the witnesses"
   ]
  },
  {
   "cell_type": "code",
   "execution_count": null,
   "id": "14f22606",
   "metadata": {},
   "outputs": [],
   "source": [
    "SELECT *\n",
    "FROM interview\n",
    "WHERE person_id = 14887\n",
    "  OR person_id = 16371"
   ]
  },
  {
   "cell_type": "markdown",
   "id": "8cb3d847",
   "metadata": {},
   "source": [
    "### 5. Check when Annabal was at the gym"
   ]
  },
  {
   "cell_type": "code",
   "execution_count": null,
   "id": "79423f6c",
   "metadata": {},
   "outputs": [],
   "source": [
    "SELECT *\n",
    "FROM get_fit_now_member m\n",
    "INNER JOIN get_fit_now_check_in c ON m.id = c.membership_id\n",
    "WHERE person_id = 16371"
   ]
  },
  {
   "cell_type": "markdown",
   "id": "2772ba22",
   "metadata": {},
   "source": [
    "### 6. Finding the killer"
   ]
  },
  {
   "cell_type": "code",
   "execution_count": null,
   "id": "f5f68d3b",
   "metadata": {},
   "outputs": [],
   "source": [
    "SELECT *\n",
    "FROM get_fit_now_member m\n",
    "INNER JOIN get_fit_now_check_in c ON m.id = c.membership_id\n",
    "WHERE ID LIKE '48Z%'\n",
    "  AND membership_status = 'gold'\n",
    "  AND (check_in_time BETWEEN 1600 AND 1700\n",
    "       OR check_out_time BETWEEN 1600 AND 1700)\n",
    "  AND person_id IN\n",
    "    (SELECT person.id\n",
    "     FROM drivers_license\n",
    "     INNER JOIN person ON drivers_license.id = person.license_id\n",
    "     WHERE plate_number LIKE '%H42W%')"
   ]
  },
  {
   "cell_type": "markdown",
   "id": "9f19808f",
   "metadata": {},
   "source": [
    "Congrats, you found the murderer! But wait, there's more... If you think you're up for a challenge, try querying the interview transcript of the murderer to find the real villain behind this crime. If you feel especially confident in your SQL skills, try to complete this final step with no more than 2 queries. Use this same INSERT statement with your new suspect to check your answer.    "
   ]
  },
  {
   "cell_type": "markdown",
   "id": "6ba3006a",
   "metadata": {},
   "source": [
    "### 7. Interview Statement"
   ]
  },
  {
   "cell_type": "code",
   "execution_count": null,
   "id": "f5d4b41c",
   "metadata": {},
   "outputs": [],
   "source": [
    "SELECT * FROM interview\n",
    "WHERE person_id = 67318"
   ]
  },
  {
   "cell_type": "markdown",
   "id": "d6abd708",
   "metadata": {},
   "source": [
    "### 8. Finding the real villain"
   ]
  },
  {
   "cell_type": "code",
   "execution_count": null,
   "id": "c5ea2026",
   "metadata": {},
   "outputs": [],
   "source": [
    "SELECT *\n",
    "FROM\n",
    "  (SELECT person_id,\n",
    "          count(*) AS amount\n",
    "   FROM facebook_event_checkin\n",
    "   WHERE event_name = 'SQL Symphony Concert'\n",
    "     AND date LIKE '201712%'\n",
    "   GROUP BY person_id\n",
    "   HAVING amount = 3) a\n",
    "INNER JOIN person p ON p.id = a.person_id\n",
    "WHERE person_id IN\n",
    "    (SELECT p.id\n",
    "     FROM drivers_license l\n",
    "     JOIN person p ON p.license_id = l.id\n",
    "     WHERE car_model = 'Model S'\n",
    "       AND car_make = 'Tesla'\n",
    "       AND hair_color = 'red'\n",
    "       AND gender = 'female')"
   ]
  },
  {
   "cell_type": "markdown",
   "id": "6ca2a775",
   "metadata": {},
   "source": [
    "Congrats, you found the brains behind the murder! Everyone in SQL City hails you as the greatest SQL detective of all time. Time to break out the champagne!"
   ]
  }
 ],
 "metadata": {
  "kernelspec": {
   "display_name": "Python 3 (ipykernel)",
   "language": "python",
   "name": "python3"
  },
  "language_info": {
   "codemirror_mode": {
    "name": "ipython",
    "version": 3
   },
   "file_extension": ".py",
   "mimetype": "text/x-python",
   "name": "python",
   "nbconvert_exporter": "python",
   "pygments_lexer": "ipython3",
   "version": "3.9.0"
  }
 },
 "nbformat": 4,
 "nbformat_minor": 5
}
